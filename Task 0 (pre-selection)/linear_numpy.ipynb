{
 "cells": [
  {
   "cell_type": "code",
   "execution_count": 1,
   "metadata": {},
   "outputs": [],
   "source": [
    "import os\n",
    "import numpy as np"
   ]
  },
  {
   "cell_type": "code",
   "execution_count": 2,
   "metadata": {},
   "outputs": [],
   "source": [
    "path = os.path.join(os.getcwd(), \"linear_data.txt\")\n",
    "with open(path, \"r\") as datafile:\n",
    "    data = datafile.readlines()"
   ]
  },
  {
   "cell_type": "markdown",
   "metadata": {},
   "source": [
    "The function `formatData()` reads the data, and formats it to form the desired matrices."
   ]
  },
  {
   "cell_type": "code",
   "execution_count": 3,
   "metadata": {},
   "outputs": [],
   "source": [
    "def formatData(data, matrix):\n",
    "    for line in data:\n",
    "        line = line.strip(\"\\n\")\n",
    "        l1 = [float(x) for x in line.split(\",\")]\n",
    "        l1.insert(0, 1)\n",
    "        matrix.append(l1)\n",
    "    return matrix\n",
    "\n",
    "matrix = formatData(data, list())\n",
    "# print(matrix)"
   ]
  },
  {
   "cell_type": "markdown",
   "metadata": {},
   "source": [
    "Creating X, y, and $\\theta$ from the data matrix. Here, \n",
    "- X is the design matrix\n",
    "- y is the target variables\n",
    "- $\\theta$ is the parameters"
   ]
  },
  {
   "cell_type": "code",
   "execution_count": 4,
   "metadata": {},
   "outputs": [],
   "source": [
    "cols = len(matrix[0])\n",
    "matrix = np.matrix(matrix)\n",
    "\n",
    "X = matrix[:, 0:cols-1]\n",
    "y = matrix[:, cols-1:cols]\n",
    "theta = np.matrix(np.array([0,0]))\n",
    "# print(X, y, theta)"
   ]
  },
  {
   "cell_type": "markdown",
   "metadata": {},
   "source": [
    "Function to compute costs, for linear regression, at particular $\\theta$.  \n",
    "We assume the squared error function as our cost function."
   ]
  },
  {
   "cell_type": "code",
   "execution_count": 5,
   "metadata": {},
   "outputs": [
    {
     "output_type": "execute_result",
     "data": {
      "text/plain": "32.072733877455676"
     },
     "metadata": {},
     "execution_count": 5
    }
   ],
   "source": [
    "def computeCost(X, y, theta):\n",
    "    inner = np.power(((X * theta.T) - y), 2)\n",
    "    return np.sum(inner) / (2*len(X))\n",
    "\n",
    "computeCost(X, y, theta) # Cost for the initial theta"
   ]
  },
  {
   "cell_type": "markdown",
   "metadata": {},
   "source": [
    "Function to perform the gradient descent algorithm. Here, \n",
    "- alpha is the learning rate of the algorithm\n",
    "- iter_count is the number of iterations made by the algorithm.  \n",
    "The function returns the final optimised $\\theta$ and the final cost "
   ]
  },
  {
   "cell_type": "code",
   "execution_count": 6,
   "metadata": {},
   "outputs": [],
   "source": [
    "def gradientDescent(X, y, theta, alpha, iter_count):\n",
    "    temp = np.matrix(np.zeros(theta.shape)) # will hold value of new theta\n",
    "    cost = np.zeros(iter_count) #will hold value of cost for each iteration\n",
    "    parameters = int(theta.ravel().shape[1]) #defines number of feature variables\n",
    "    for i in range(iter_count):\n",
    "        error = X*theta.T - y\n",
    "        for j in range(parameters):\n",
    "            term = np.multiply(error, X[:, j])\n",
    "            temp[0, j] = theta[0, j] - ((alpha/len(X)) * np.sum(term))\n",
    "        theta = temp\n",
    "        cost[i] = computeCost(X, y, theta)\n",
    "    return theta, cost"
   ]
  },
  {
   "cell_type": "markdown",
   "metadata": {},
   "source": [
    "Executing Gradient Descent  \n",
    "iter_count >= 10000 gives good results"
   ]
  },
  {
   "cell_type": "code",
   "execution_count": 8,
   "metadata": {},
   "outputs": [
    {
     "output_type": "stream",
     "name": "stdout",
     "text": "[[-3.89578082  1.19303364]]\n4.476971375975179\n"
    }
   ],
   "source": [
    "iter_count = 10000\n",
    "alpha = 0.01\n",
    "g, cost = gradientDescent(X, y, theta, alpha, iter_count)\n",
    "print(g) # Final theta\n",
    "print(cost[-1]) # Cost for the final theta"
   ]
  }
 ],
 "metadata": {
  "language_info": {
   "codemirror_mode": {
    "name": "ipython",
    "version": 3
   },
   "file_extension": ".py",
   "mimetype": "text/x-python",
   "name": "python",
   "nbconvert_exporter": "python",
   "pygments_lexer": "ipython3",
   "version": "3.7.4-final"
  },
  "orig_nbformat": 2,
  "kernelspec": {
   "name": "python3",
   "display_name": "Python 3"
  }
 },
 "nbformat": 4,
 "nbformat_minor": 2
}