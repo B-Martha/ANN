{
  "nbformat": 4,
  "nbformat_minor": 0,
  "metadata": {
    "colab": {
      "name": "Copy of Untitled0.ipynb",
      "provenance": [],
      "collapsed_sections": []
    },
    "kernelspec": {
      "name": "python3",
      "display_name": "Python 3"
    },
    "accelerator": "GPU"
  },
  "cells": [
    {
      "cell_type": "code",
      "metadata": {
        "id": "yFQGUsz-zyDH",
        "colab_type": "code",
        "colab": {}
      },
      "source": [
        "import torch\n",
        "import numpy as np\n",
        "from torch import nn\n",
        "from torch import optim as optim\n",
        "from torch.nn import functional as F\n",
        "from torchvision import datasets, transforms\n",
        "from torch.utils.data.sampler import SubsetRandomSampler\n",
        "import matplotlib.pyplot as plt\n",
        "%matplotlib inline"
      ],
      "execution_count": 0,
      "outputs": []
    },
    {
      "cell_type": "code",
      "metadata": {
        "id": "aAen7cEqWDlm",
        "colab_type": "code",
        "outputId": "d56ab777-4f60-4067-e823-e604d19d3415",
        "colab": {
          "base_uri": "https://localhost:8080/",
          "height": 34
        }
      },
      "source": [
        "# This cell determines whether the model will be run on the cpu or the gpu\n",
        "train_on_gpu = torch.cuda.is_available()\n",
        "\n",
        "if not train_on_gpu:\n",
        "    print('CUDA is not available.  Training on CPU ...')\n",
        "    device = torch.device('cpu')\n",
        "else:\n",
        "    print('CUDA is available!  Training on GPU ...')\n",
        "    device = torch.device('cuda')"
      ],
      "execution_count": 2,
      "outputs": [
        {
          "output_type": "stream",
          "text": [
            "CUDA is available!  Training on GPU ...\n"
          ],
          "name": "stdout"
        }
      ]
    },
    {
      "cell_type": "code",
      "metadata": {
        "id": "8hf3TNSP9VTE",
        "colab_type": "code",
        "outputId": "8e702b77-05ef-4bac-ed27-8713bf2ba8f8",
        "colab": {
          "base_uri": "https://localhost:8080/",
          "height": 68
        }
      },
      "source": [
        "# train_size determines how the train_set and dev_set will be formed\n",
        "# batch_size determines the size of the minibatch in gradient descent\n",
        "train_size = 0.8\n",
        "batch_size = 100\n",
        "lr = 0.01\n",
        "\n",
        "transform = transforms.Compose([transforms.ToTensor(),\n",
        "                                transforms.Normalize((0.5,), (0.5,))\n",
        "                                ])\n",
        "\n",
        "trainset = datasets.MNIST(\"~/.pytorch/MNIST_data/\", train=True, download=True, transform = transform)\n",
        "testset = datasets.MNIST(\"~/.pytorch/MNIST_data/\", train=False, download=True, transform = transform)\n",
        "\n",
        "# The train_sampler takes 80% of the dataset randomly as the training set. The rest becomes the development set\n",
        "indices = list(range(len(trainset)))\n",
        "np.random.shuffle(indices)\n",
        "split = int(np.floor(train_size*len(trainset)))\n",
        "train_idx, valid_idx = indices[:split], indices[split:]\n",
        "train_sampler = SubsetRandomSampler(train_idx)\n",
        "valid_sampler = SubsetRandomSampler(valid_idx)\n",
        "\n",
        "# Create the three dataloaders\n",
        "trainloader = torch.utils.data.DataLoader(trainset, batch_size = batch_size, sampler=train_sampler)\n",
        "validloader = torch.utils.data.DataLoader(trainset, batch_size = batch_size, sampler=valid_sampler)\n",
        "testloader = torch.utils.data.DataLoader(testset, batch_size = batch_size, shuffle = True )\n",
        "\n",
        "# Sizes of the train, dev, and test sets.\n",
        "print(\"Size of train set\", len(trainloader)*batch_size) \n",
        "print(\"Size of dev set\", len(validloader)*batch_size) \n",
        "print(\"Size of test set\", len(testloader)*batch_size)\n",
        "\n"
      ],
      "execution_count": 3,
      "outputs": [
        {
          "output_type": "stream",
          "text": [
            "Size of train set 48000\n",
            "Size of dev set 12000\n",
            "Size of test set 10000\n"
          ],
          "name": "stdout"
        }
      ]
    },
    {
      "cell_type": "code",
      "metadata": {
        "id": "Ev5Dy1VJSOYL",
        "colab_type": "code",
        "outputId": "74627592-b1f2-4cf1-daca-861ad68adf47",
        "colab": {
          "base_uri": "https://localhost:8080/",
          "height": 282
        }
      },
      "source": [
        "# Information abput the images and labels\n",
        "image, label = trainset[0]\n",
        "plt.imshow(image.view(28,28), cmap='gray')\n",
        "print(\"Label:\", label)"
      ],
      "execution_count": 4,
      "outputs": [
        {
          "output_type": "stream",
          "text": [
            "Label: 5\n"
          ],
          "name": "stdout"
        },
        {
          "output_type": "display_data",
          "data": {
            "image/png": "[encoded data removed]",
            "text/plain": [
              "<Figure size 432x288 with 1 Axes>"
            ]
          },
          "metadata": {
            "tags": [],
            "needs_background": "light"
          }
        }
      ]
    },
    {
      "cell_type": "code",
      "metadata": {
        "id": "i-cS9V6-ERpc",
        "colab_type": "code",
        "outputId": "00993bf2-4218-4bfa-ace9-12e7a21ca934",
        "colab": {
          "base_uri": "https://localhost:8080/",
          "height": 170
        }
      },
      "source": [
        "class Classifier(nn.Module):\n",
        "    def __init__(self):\n",
        "      super(Classifier, self).__init__()\n",
        "      self.conv1 = nn.Conv2d(1, 32, kernel_size = (3, 3), stride = 1, padding = 0) \n",
        "      self.conv2 = nn.Conv2d(32, 64, kernel_size = (3, 3), stride = 1, padding = 0) \n",
        "      self.pool = nn.MaxPool2d(2,2) \n",
        "      self.fc1 = nn.Linear((64*12*12), 128) \n",
        "      self.fc2 = nn.Linear(128, 10) \n",
        "\n",
        "      self.dropout1 = nn.Dropout(p=0.25)\n",
        "      self.dropout2 = nn.Dropout(p=0.5)\n",
        "\n",
        "    # Forward Propagation function\n",
        "    def forward(self, x):\n",
        "      x = F.relu(self.conv1(x)) # Size now : batch_size 32 26 26\n",
        "      x = F.relu(self.conv2(x))  # Size now : batch_size 64 24 24\n",
        "      x = self.pool(x)  # Size now : batch_size 64 12 12\n",
        "      x = x.view(-1, 64*12*12)  # Size now : batch_size 9216\n",
        "      x = self.dropout1(x)  # Size now : batch_size 9216\n",
        "      x = F.relu(self.fc1(x))  # Size now : batch_size 128\n",
        "      x = self.dropout2(x)  # Size now : batch_size 128\n",
        "      x = F.log_softmax(self.fc2(x), dim = 1) # Size now : batch_size 10\n",
        "      return x\n",
        "\n",
        "# Defining the model, and the default criterion and optimizer\n",
        "model = Classifier()\n",
        "criterion = nn.NLLLoss()\n",
        "optimizer = optim.SGD(model.parameters(), lr=lr, momentum = 0.9)\n",
        "\n",
        "# If GPU available, we move the model to the GPU\n",
        "if train_on_gpu:\n",
        "    model.to(device)\n",
        "    \n",
        "print(model)"
      ],
      "execution_count": 5,
      "outputs": [
        {
          "output_type": "stream",
          "text": [
            "Classifier(\n",
            "  (conv1): Conv2d(1, 32, kernel_size=(3, 3), stride=(1, 1))\n",
            "  (conv2): Conv2d(32, 64, kernel_size=(3, 3), stride=(1, 1))\n",
            "  (pool): MaxPool2d(kernel_size=2, stride=2, padding=0, dilation=1, ceil_mode=False)\n",
            "  (fc1): Linear(in_features=9216, out_features=128, bias=True)\n",
            "  (fc2): Linear(in_features=128, out_features=10, bias=True)\n",
            "  (dropout1): Dropout(p=0.25, inplace=False)\n",
            "  (dropout2): Dropout(p=0.5, inplace=False)\n",
            ")\n"
          ],
          "name": "stdout"
        }
      ]
    },
    {
      "cell_type": "code",
      "metadata": {
        "id": "lJC56hq7BLHR",
        "colab_type": "code",
        "outputId": "c0f7c176-c4df-4378-ea65-e48eaed475d2",
        "colab": {
          "base_uri": "https://localhost:8080/",
          "height": 255
        }
      },
      "source": [
        "# This cell finds the initial accuracy, with the randomly initialised neural network\n",
        "\n",
        "digit_accuracy = [0]*10 # Counts the number of correct predictions for each digit\n",
        "digit_count = [0]*10 # Counts the number of times that digit appears\n",
        "test_loss = 0 # Gives a real-number evaluation for the accuracy of the network\n",
        "\n",
        "for images, labels in testloader:\n",
        "  images, labels = images.to(device), labels.to(device)\n",
        "  log_ps = model(images)\n",
        "  loss = criterion(log_ps, labels)\n",
        "  ps = torch.exp(log_ps)\n",
        "\n",
        "  # Finding the predicted class, and the number of correct predictions.\n",
        "  top_probability, predictions = torch.max(ps, 1)\n",
        "  correct_tensor = predictions.eq(labels.data.view_as(predictions))\n",
        "  correct = np.squeeze(correct_tensor.numpy()) if not train_on_gpu else np.squeeze(correct_tensor.cpu().numpy())\n",
        "\n",
        "  # Number of times a digit appears, and how many times we predict it correctly.\n",
        "  for i in range(batch_size):\n",
        "    label = labels[i]\n",
        "    digit_accuracy[label] += correct[i].item()\n",
        "    digit_count[label] += 1\n",
        "  test_loss += loss.item() * batch_size\n",
        "\n",
        "# Finding the mean test_accuracy, and test_loss\n",
        "test_accuracy = np.sum(digit_accuracy)/np.sum(digit_count) * 100.\n",
        "test_loss /= len(testloader.dataset)\n",
        "\n",
        "print(\"Test Loss :\", test_loss)\n",
        "print('\\nDigit Accuracy:') \n",
        "for idx, (x, y) in enumerate(zip(digit_accuracy, digit_count)):\n",
        "  print(f\"\\tfor {idx} : {x/y*100:.4f}% ({int(x)}/{y})\")\n",
        "print(f'Overall Accuracy: {test_accuracy:.6f}% ({np.sum(digit_accuracy)}/{np.sum(digit_count)})') \n",
        "\n",
        "# We should get an accuracy around 10%, as random guesses will have a 1 in 10 chance of being correct\n"
      ],
      "execution_count": 6,
      "outputs": [
        {
          "output_type": "stream",
          "text": [
            "Test Loss : 2.3051073789596557\n",
            "\n",
            "Digit Accuracy:\n",
            "\tfor 0 : 0.2041% (2/980)\n",
            "\tfor 1 : 18.1498% (206/1135)\n",
            "\tfor 2 : 2.1318% (22/1032)\n",
            "\tfor 3 : 23.1683% (234/1010)\n",
            "\tfor 4 : 50.3055% (494/982)\n",
            "\tfor 5 : 6.5022% (58/892)\n",
            "\tfor 6 : 0.0000% (0/958)\n",
            "\tfor 7 : 0.8755% (9/1028)\n",
            "\tfor 8 : 4.7228% (46/974)\n",
            "\tfor 9 : 1.9822% (20/1009)\n",
            "Overall Accuracy: 10.910000% (1091/10000)\n"
          ],
          "name": "stdout"
        }
      ]
    },
    {
      "cell_type": "code",
      "metadata": {
        "id": "QGQRmb7o1Wgz",
        "colab_type": "code",
        "outputId": "2b28728e-3b00-42c5-ab6e-9de3f4bb5557",
        "colab": {
          "base_uri": "https://localhost:8080/",
          "height": 1000
        }
      },
      "source": [
        "# This cell is where the neural network \"learns\". We will train for about 15 epochs\n",
        "\n",
        "epochs = 20\n",
        "min_dev_loss = 10\n",
        "lrlist = [0.01, 0.006, 0.003, 0.001]\n",
        "\n",
        "for e in range(1, epochs+1):\n",
        "  running_loss = loss = 0\n",
        "\n",
        "  # We define the loss_fn, and the optimisation algorithm\n",
        "  criterion = nn.NLLLoss()\n",
        "  lr = lrlist[(e-1)//5]# For the first 10 epochs, lr=0.01, and for the next 10, lr=0.003\n",
        "  optimizer = optim.SGD(model.parameters(), lr=lr, momentum = 0.9)\n",
        "\n",
        "  model.train()\n",
        "  print(f\"\\nTraining Model (Epoch {e}) ...\", end = \"\")\n",
        "  for idx, (images, labels) in enumerate(trainloader):\n",
        "    images, labels = images.to(device), labels.to(device)\n",
        "    optimizer.zero_grad()\n",
        "\n",
        "    log_ps = model(images)\n",
        "    loss = criterion(log_ps, labels)\n",
        "    loss.backward()  # BackPropagation\n",
        "    optimizer.step() # Gradient Descent\n",
        "\n",
        "    running_loss += loss.item()*batch_size\n",
        "\n",
        "    percent = (idx / len(trainloader))*100\n",
        "    if percent % 10 == 0:\n",
        "      print(f\" -- {percent}% \", end = \"\") # To get an idea of the progress in training.\n",
        "    \n",
        "  else:\n",
        "    print(f\"-- 100%\\nTesting Model (Epoch {e}) ...\")\n",
        "    dev_loss = dev_accuracy = 0\n",
        "\n",
        "    model.eval()\n",
        "    with torch.no_grad():\n",
        "      for images, labels in validloader:\n",
        "        images, labels = images.to(device), labels.to(device)\n",
        "        log_ps = model(images)\n",
        "        loss = criterion(log_ps, labels)\n",
        "        ps = torch.exp(log_ps)\n",
        "\n",
        "        # Finding the predicted clss, and number of correct predictions\n",
        "        top_probability, predictions = torch.max(ps, 1)\n",
        "        correct_tensor = predictions.eq(labels.data.view_as(predictions))\n",
        "        correct = np.squeeze(correct_tensor.numpy()) if not train_on_gpu else np.squeeze(correct_tensor.cpu().numpy())\n",
        "\n",
        "        dev_loss += loss.item() * batch_size\n",
        "        dev_accuracy += np.sum(correct) * 100.\n",
        "      # Finding the mean developmental loss\n",
        "      dev_accuracy /= len(validloader.sampler)\n",
        "      dev_loss /= len(validloader.sampler)\n",
        "        \n",
        "        \n",
        "  \n",
        "    print(f'Epoch: {e} of {epochs} - Training Loss: {running_loss/len(trainloader):.6f} - Development Loss: {dev_loss:.6f}')\n",
        "    print(f'Accuracy: {dev_accuracy.item():.6f}%', end = \"\\t\")\n",
        "    if min_dev_loss > dev_loss:\n",
        "      print(f\"Validation Loss decreased ({min_dev_loss:.6f} --> {dev_loss:.6f}) !! Saving Model ... \")\n",
        "      min_dev_loss = dev_loss\n",
        "      torch.save(model.state_dict(), 'mnist_cnn.pt')\n",
        "    else:\n",
        "       print()\n",
        "    \n",
        "        \n"
      ],
      "execution_count": 7,
      "outputs": [
        {
          "output_type": "stream",
          "text": [
            "\n",
            "Training Model (Epoch 1) ... -- 0.0%  -- 10.0%  -- 20.0%  -- 30.0%  -- 40.0%  -- 50.0%  -- 60.0%  -- 70.0%  -- 80.0%  -- 90.0% -- 100%\n",
            "Testing Model (Epoch 1) ...\n",
            "Epoch: 1 of 20 - Training Loss: 43.651164 - Development Loss: 0.095496\n",
            "Accuracy: 96.966667%\tValidation Loss decreased (10.000000 --> 0.095496) !! Saving Model ... \n",
            "\n",
            "Training Model (Epoch 2) ... -- 0.0%  -- 10.0%  -- 20.0%  -- 30.0%  -- 40.0%  -- 50.0%  -- 60.0%  -- 70.0%  -- 80.0%  -- 90.0% -- 100%\n",
            "Testing Model (Epoch 2) ...\n",
            "Epoch: 2 of 20 - Training Loss: 12.753115 - Development Loss: 0.064406\n",
            "Accuracy: 98.025000%\tValidation Loss decreased (0.095496 --> 0.064406) !! Saving Model ... \n",
            "\n",
            "Training Model (Epoch 3) ... -- 0.0%  -- 10.0%  -- 20.0%  -- 30.0%  -- 40.0%  -- 50.0%  -- 60.0%  -- 70.0%  -- 80.0%  -- 90.0% -- 100%\n",
            "Testing Model (Epoch 3) ...\n",
            "Epoch: 3 of 20 - Training Loss: 9.206463 - Development Loss: 0.054805\n",
            "Accuracy: 98.333333%\tValidation Loss decreased (0.064406 --> 0.054805) !! Saving Model ... \n",
            "\n",
            "Training Model (Epoch 4) ... -- 0.0%  -- 10.0%  -- 20.0%  -- 30.0%  -- 40.0%  -- 50.0%  -- 60.0%  -- 70.0%  -- 80.0%  -- 90.0% -- 100%\n",
            "Testing Model (Epoch 4) ...\n",
            "Epoch: 4 of 20 - Training Loss: 7.799025 - Development Loss: 0.046765\n",
            "Accuracy: 98.650000%\tValidation Loss decreased (0.054805 --> 0.046765) !! Saving Model ... \n",
            "\n",
            "Training Model (Epoch 5) ... -- 0.0%  -- 10.0%  -- 20.0%  -- 30.0%  -- 40.0%  -- 50.0%  -- 60.0%  -- 70.0%  -- 80.0%  -- 90.0% -- 100%\n",
            "Testing Model (Epoch 5) ...\n",
            "Epoch: 5 of 20 - Training Loss: 6.610646 - Development Loss: 0.043140\n",
            "Accuracy: 98.741667%\tValidation Loss decreased (0.046765 --> 0.043140) !! Saving Model ... \n",
            "\n",
            "Training Model (Epoch 6) ... -- 0.0%  -- 10.0%  -- 20.0%  -- 30.0%  -- 40.0%  -- 50.0%  -- 60.0%  -- 70.0%  -- 80.0%  -- 90.0% -- 100%\n",
            "Testing Model (Epoch 6) ...\n",
            "Epoch: 6 of 20 - Training Loss: 5.124624 - Development Loss: 0.038893\n",
            "Accuracy: 98.916667%\tValidation Loss decreased (0.043140 --> 0.038893) !! Saving Model ... \n",
            "\n",
            "Training Model (Epoch 7) ... -- 0.0%  -- 10.0%  -- 20.0%  -- 30.0%  -- 40.0%  -- 50.0%  -- 60.0%  -- 70.0%  -- 80.0%  -- 90.0% -- 100%\n",
            "Testing Model (Epoch 7) ...\n",
            "Epoch: 7 of 20 - Training Loss: 4.596279 - Development Loss: 0.039600\n",
            "Accuracy: 98.841667%\t\n",
            "\n",
            "Training Model (Epoch 8) ... -- 0.0%  -- 10.0%  -- 20.0%  -- 30.0%  -- 40.0%  -- 50.0%  -- 60.0%  -- 70.0%  -- 80.0%  -- 90.0% -- 100%\n",
            "Testing Model (Epoch 8) ...\n",
            "Epoch: 8 of 20 - Training Loss: 4.367210 - Development Loss: 0.038438\n",
            "Accuracy: 98.850000%\tValidation Loss decreased (0.038893 --> 0.038438) !! Saving Model ... \n",
            "\n",
            "Training Model (Epoch 9) ... -- 0.0%  -- 10.0%  -- 20.0%  -- 30.0%  -- 40.0%  -- 50.0%  -- 60.0%  -- 70.0%  -- 80.0%  -- 90.0% -- 100%\n",
            "Testing Model (Epoch 9) ...\n",
            "Epoch: 9 of 20 - Training Loss: 3.840697 - Development Loss: 0.037071\n",
            "Accuracy: 98.950000%\tValidation Loss decreased (0.038438 --> 0.037071) !! Saving Model ... \n",
            "\n",
            "Training Model (Epoch 10) ... -- 0.0%  -- 10.0%  -- 20.0%  -- 30.0%  -- 40.0%  -- 50.0%  -- 60.0%  -- 70.0%  -- 80.0%  -- 90.0% -- 100%\n",
            "Testing Model (Epoch 10) ...\n",
            "Epoch: 10 of 20 - Training Loss: 3.612650 - Development Loss: 0.037428\n",
            "Accuracy: 98.983333%\t\n",
            "\n",
            "Training Model (Epoch 11) ... -- 0.0%  -- 10.0%  -- 20.0%  -- 30.0%  -- 40.0%  -- 50.0%  -- 60.0%  -- 70.0%  -- 80.0%  -- 90.0% -- 100%\n",
            "Testing Model (Epoch 11) ...\n",
            "Epoch: 11 of 20 - Training Loss: 2.966645 - Development Loss: 0.036829\n",
            "Accuracy: 98.933333%\tValidation Loss decreased (0.037071 --> 0.036829) !! Saving Model ... \n",
            "\n",
            "Training Model (Epoch 12) ... -- 0.0%  -- 10.0%  -- 20.0%  -- 30.0%  -- 40.0%  -- 50.0%  -- 60.0%  -- 70.0%  -- 80.0%  -- 90.0% -- 100%\n",
            "Testing Model (Epoch 12) ...\n",
            "Epoch: 12 of 20 - Training Loss: 2.926177 - Development Loss: 0.036259\n",
            "Accuracy: 99.041667%\tValidation Loss decreased (0.036829 --> 0.036259) !! Saving Model ... \n",
            "\n",
            "Training Model (Epoch 13) ... -- 0.0%  -- 10.0%  -- 20.0%  -- 30.0%  -- 40.0%  -- 50.0%  -- 60.0%  -- 70.0%  -- 80.0%  -- 90.0% -- 100%\n",
            "Testing Model (Epoch 13) ...\n",
            "Epoch: 13 of 20 - Training Loss: 2.787028 - Development Loss: 0.036186\n",
            "Accuracy: 99.041667%\tValidation Loss decreased (0.036259 --> 0.036186) !! Saving Model ... \n",
            "\n",
            "Training Model (Epoch 14) ... -- 0.0%  -- 10.0%  -- 20.0%  -- 30.0%  -- 40.0%  -- 50.0%  -- 60.0%  -- 70.0%  -- 80.0%  -- 90.0% -- 100%\n",
            "Testing Model (Epoch 14) ...\n",
            "Epoch: 14 of 20 - Training Loss: 2.889644 - Development Loss: 0.036428\n",
            "Accuracy: 99.016667%\t\n",
            "\n",
            "Training Model (Epoch 15) ... -- 0.0%  -- 10.0%  -- 20.0%  -- 30.0%  -- 40.0%  -- 50.0%  -- 60.0%  -- 70.0%  -- 80.0%  -- 90.0% -- 100%\n",
            "Testing Model (Epoch 15) ...\n",
            "Epoch: 15 of 20 - Training Loss: 2.559149 - Development Loss: 0.035503\n",
            "Accuracy: 99.083333%\tValidation Loss decreased (0.036186 --> 0.035503) !! Saving Model ... \n",
            "\n",
            "Training Model (Epoch 16) ... -- 0.0%  -- 10.0%  -- 20.0%  -- 30.0%  -- 40.0%  -- 50.0%  -- 60.0%  -- 70.0%  -- 80.0%  -- 90.0% -- 100%\n",
            "Testing Model (Epoch 16) ...\n",
            "Epoch: 16 of 20 - Training Loss: 2.344407 - Development Loss: 0.034624\n",
            "Accuracy: 99.058333%\tValidation Loss decreased (0.035503 --> 0.034624) !! Saving Model ... \n",
            "\n",
            "Training Model (Epoch 17) ... -- 0.0%  -- 10.0%  -- 20.0%  -- 30.0%  -- 40.0%  -- 50.0%  -- 60.0%  -- 70.0%  -- 80.0%  -- 90.0% -- 100%\n",
            "Testing Model (Epoch 17) ...\n",
            "Epoch: 17 of 20 - Training Loss: 2.327092 - Development Loss: 0.034701\n",
            "Accuracy: 99.100000%\t\n",
            "\n",
            "Training Model (Epoch 18) ... -- 0.0%  -- 10.0%  -- 20.0%  -- 30.0%  -- 40.0%  -- 50.0%  -- 60.0%  -- 70.0%  -- 80.0%  -- 90.0% -- 100%\n",
            "Testing Model (Epoch 18) ...\n",
            "Epoch: 18 of 20 - Training Loss: 2.067042 - Development Loss: 0.035678\n",
            "Accuracy: 99.075000%\t\n",
            "\n",
            "Training Model (Epoch 19) ... -- 0.0%  -- 10.0%  -- 20.0%  -- 30.0%  -- 40.0%  -- 50.0%  -- 60.0%  -- 70.0%  -- 80.0%  -- 90.0% -- 100%\n",
            "Testing Model (Epoch 19) ...\n",
            "Epoch: 19 of 20 - Training Loss: 2.148002 - Development Loss: 0.035354\n",
            "Accuracy: 99.083333%\t\n",
            "\n",
            "Training Model (Epoch 20) ... -- 0.0%  -- 10.0%  -- 20.0%  -- 30.0%  -- 40.0%  -- 50.0%  -- 60.0%  -- 70.0%  -- 80.0%  -- 90.0% -- 100%\n",
            "Testing Model (Epoch 20) ...\n",
            "Epoch: 20 of 20 - Training Loss: 2.134061 - Development Loss: 0.035475\n",
            "Accuracy: 99.050000%\t\n"
          ],
          "name": "stdout"
        }
      ]
    },
    {
      "cell_type": "code",
      "metadata": {
        "id": "0Y2K-dBDcE_E",
        "colab_type": "code",
        "outputId": "0085b9d6-7ca3-4776-edcd-b00ce75c50e8",
        "colab": {
          "base_uri": "https://localhost:8080/",
          "height": 255
        }
      },
      "source": [
        "# This cell finds the overall and digit-wise accuracy of the neural network after the network has been trained. We aim to hit about 99% accuracy \n",
        "\n",
        "# We first load the model with the lowest validation error of the 20 epochs\n",
        "model.load_state_dict(torch.load('mnist_cnn.pt'))\n",
        "\n",
        "digit_accuracy = [0]*10 \n",
        "digit_count = [0]*10\n",
        "test_loss = 0\n",
        "\n",
        "for images, labels in testloader:\n",
        "  images, labels = images.to(device), labels.to(device)\n",
        "  log_ps = model(images)\n",
        "  loss = criterion(log_ps, labels)\n",
        "  ps = torch.exp(log_ps)\n",
        "\n",
        "  top_probability, predictions = torch.max(ps, 1)\n",
        "  correct_tensor = predictions.eq(labels.data.view_as(predictions))\n",
        "  correct = np.squeeze(correct_tensor.numpy()) if not train_on_gpu else np.squeeze(correct_tensor.cpu().numpy())\n",
        "\n",
        "  for i in range(batch_size):\n",
        "    label = labels[i]\n",
        "    digit_accuracy[label] += correct[i].item()\n",
        "    digit_count[label] += 1\n",
        "  test_loss += loss.item() * batch_size\n",
        "\n",
        "test_accuracy = np.sum(digit_accuracy)/np.sum(digit_count) * 100.\n",
        "test_loss /= len(testloader.dataset)\n",
        "\n",
        "print(\"Test Loss :\", test_loss)\n",
        "print('\\nDigit Accuracy:') \n",
        "for idx, (x, y) in enumerate(zip(digit_accuracy, digit_count)):\n",
        "  print(f\"\\tfor {idx} : {x/y*100:.4f}% ({int(x)}/{y})\")\n",
        "print(f'Overall Accuracy: {test_accuracy:.3f}% ({np.sum(digit_accuracy)}/{np.sum(digit_count)})') \n",
        "\n"
      ],
      "execution_count": 8,
      "outputs": [
        {
          "output_type": "stream",
          "text": [
            "Test Loss : 0.027415575875202193\n",
            "\n",
            "Digit Accuracy:\n",
            "\tfor 0 : 99.4898% (975/980)\n",
            "\tfor 1 : 99.8238% (1133/1135)\n",
            "\tfor 2 : 99.5155% (1027/1032)\n",
            "\tfor 3 : 99.2079% (1002/1010)\n",
            "\tfor 4 : 99.0835% (973/982)\n",
            "\tfor 5 : 98.8789% (882/892)\n",
            "\tfor 6 : 98.8518% (947/958)\n",
            "\tfor 7 : 99.0272% (1018/1028)\n",
            "\tfor 8 : 99.2813% (967/974)\n",
            "\tfor 9 : 98.0178% (989/1009)\n",
            "Overall Accuracy: 99.130% (9913/10000)\n"
          ],
          "name": "stdout"
        }
      ]
    },
    {
      "cell_type": "code",
      "metadata": {
        "id": "Ag3AX8PV6Pf0",
        "colab_type": "code",
        "outputId": "b32340b7-756b-4047-f00b-85db75184e20",
        "colab": {
          "base_uri": "https://localhost:8080/",
          "height": 68
        }
      },
      "source": [
        "# This cell compares the time required to train a network , on a CPU vs a GPU.\n",
        "import time\n",
        "dur = {} # This dictionary contains the duration it takes for each device to train the network per a mini-batch\n",
        "for device in ['cpu', 'cuda']:\n",
        "\n",
        "    criterion = nn.NLLLoss()\n",
        "    # Only train the classifier parameters, feature parameters are frozen\n",
        "    optimizer = optim.SGD(model.parameters(), lr=lr, momentum = 0.9)\n",
        "\n",
        "    model.to(device)\n",
        "\n",
        "    for ii, (inputs, labels) in enumerate(trainloader):\n",
        "\n",
        "        inputs, labels = inputs.to(device), labels.to(device)\n",
        "\n",
        "        start = time.time()\n",
        "\n",
        "        outputs = model.forward(inputs)\n",
        "        loss = criterion(outputs, labels)\n",
        "        loss.backward()\n",
        "        optimizer.step()\n",
        "\n",
        "        if ii==5:\n",
        "          dur[device] = (time.time() - start)/5\n",
        "          break\n",
        "    print(f\"Device = {device}\\t Time per batch: {dur[device]:.6f} seconds\")\n",
        "\n",
        "print(f\"The GPU is {dur['cpu']/dur['cuda']:.3f} times faster than the CPU\") "
      ],
      "execution_count": 9,
      "outputs": [
        {
          "output_type": "stream",
          "text": [
            "Device = cpu\t Time per batch: 0.037600 seconds\n",
            "Device = cuda\t Time per batch: 0.000663 seconds\n",
            "The GPU is 56.695 times faster than the CPU\n"
          ],
          "name": "stdout"
        }
      ]
    },
    {
      "cell_type": "code",
      "metadata": {
        "id": "W52e6KUwjY_Y",
        "colab_type": "code",
        "outputId": "47b3d08b-bd17-4717-e31a-f06f588896c8",
        "colab": {
          "base_uri": "https://localhost:8080/",
          "height": 436
        }
      },
      "source": [
        "# We show the results of our network here\n",
        "dataiter = iter(testloader)\n",
        "images, labels = dataiter.next()\n",
        "\n",
        "# move model inputs to cuda, if GPU available\n",
        "if train_on_gpu:\n",
        "    images = images.cuda()\n",
        "\n",
        "# get sample outputs\n",
        "output = model(images)\n",
        "ps = torch.exp(output)\n",
        "# convert output probabilities to predicted class\n",
        "_, preds_tensor = torch.max(output, 1)\n",
        "preds = np.squeeze(preds_tensor.numpy()) if not train_on_gpu else np.squeeze(preds_tensor.cpu().numpy())\n",
        "\n",
        "# plot the images in the batch, along with predicted and true labels\n",
        "fig1 = plt.figure(figsize=(28, 6))\n",
        "\n",
        "images, labels, ps = images.cpu(), labels.cpu(), ps.cpu().detach().numpy()\n",
        "num = 7\n",
        "for idx in np.arange(num):\n",
        "    ax1 = fig1.add_subplot(2, num, idx+1)\n",
        "    ax2 = fig1.add_subplot(2, num, idx+1+num)\n",
        "\n",
        "    ax1.imshow(images[idx].resize_(1, 28, 28).numpy().squeeze(), cmap = \"gray\")\n",
        "    ax1.axis('off')\n",
        "    ax1.set_title(f\"Predicted: {preds[idx]} ( Actual: {labels[idx]} )\", color=(\"green\" if preds[idx]==labels[idx] else \"red\"))\n",
        "    ax2.barh(np.arange(10), ps[idx])\n",
        "    ax2.set_aspect(0.1)\n",
        "    ax2.set_yticks(np.arange(10))\n",
        "    ax2.set_yticklabels(np.arange(10))\n",
        "    ax2.set_title('Class Probability')\n",
        "    ax2.set_xlim(0, 1.1)\n",
        "\n",
        "    plt.tight_layout()\n"
      ],
      "execution_count": 12,
      "outputs": [
        {
          "output_type": "display_data",
          "data": {
            "image/png": "[encoded data removed]",
            "text/plain": [
              "<Figure size 2016x432 with 14 Axes>"
            ]
          },
          "metadata": {
            "tags": [],
            "needs_background": "light"
          }
        }
      ]
    }
  ]
}
